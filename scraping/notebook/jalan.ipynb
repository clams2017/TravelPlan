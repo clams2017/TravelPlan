{
 "cells": [
  {
   "cell_type": "code",
   "execution_count": 1,
   "metadata": {},
   "outputs": [
    {
     "ename": "ModuleNotFoundError",
     "evalue": "No module named 'requests'",
     "output_type": "error",
     "traceback": [
      "\u001b[0;31m---------------------------------------------------------------------------\u001b[0m",
      "\u001b[0;31mModuleNotFoundError\u001b[0m                       Traceback (most recent call last)",
      "\u001b[0;32m<ipython-input-1-10ca0c9990f3>\u001b[0m in \u001b[0;36m<module>\u001b[0;34m\u001b[0m\n\u001b[0;32m----> 1\u001b[0;31m \u001b[0;32mimport\u001b[0m \u001b[0mrequests\u001b[0m\u001b[0;34m\u001b[0m\u001b[0m\n\u001b[0m\u001b[1;32m      2\u001b[0m \u001b[0;32mfrom\u001b[0m \u001b[0mbs4\u001b[0m \u001b[0;32mimport\u001b[0m \u001b[0mBeautifulSoup\u001b[0m\u001b[0;34m\u001b[0m\u001b[0m\n",
      "\u001b[0;31mModuleNotFoundError\u001b[0m: No module named 'requests'"
     ]
    }
   ],
   "source": [
    "import requests\n",
    "from bs4 import BeautifulSoup"
   ]
  },
  {
   "cell_type": "code",
   "execution_count": 2,
   "metadata": {},
   "outputs": [],
   "source": [
    "def get_html(url):\n",
    "    r = requests.get(url)\n",
    "    r.encoding = r.apparent_encoding\n",
    "    return r.text"
   ]
  },
  {
   "cell_type": "code",
   "execution_count": 3,
   "metadata": {},
   "outputs": [],
   "source": [
    "url = 'https://www.jalan.net/kankou/pro_003/g2_U2/'\n",
    "s = BeautifulSoup(get_html(url), 'html.parser')"
   ]
  },
  {
   "cell_type": "code",
   "execution_count": 4,
   "metadata": {},
   "outputs": [],
   "source": [
    "with open('jalan.html') as f:\n",
    "    s = BeautifulSoup(f, 'html.parser')"
   ]
  },
  {
   "cell_type": "code",
   "execution_count": 5,
   "metadata": {
    "scrolled": true
   },
   "outputs": [],
   "source": [
    "item = s.find('div', class_='item-listContents')"
   ]
  },
  {
   "cell_type": "code",
   "execution_count": 6,
   "metadata": {},
   "outputs": [],
   "source": [
    "spot = item.findAll('a')[2]"
   ]
  },
  {
   "cell_type": "code",
   "execution_count": 7,
   "metadata": {},
   "outputs": [
    {
     "data": {
      "text/plain": [
       "'吹割の滝'"
      ]
     },
     "execution_count": 7,
     "metadata": {},
     "output_type": "execute_result"
    }
   ],
   "source": [
    "spot.string"
   ]
  },
  {
   "cell_type": "code",
   "execution_count": 8,
   "metadata": {},
   "outputs": [
    {
     "data": {
      "text/plain": [
       "'https://www.jalan.net/kankou/spt_guide000000151053/'"
      ]
     },
     "execution_count": 8,
     "metadata": {},
     "output_type": "execute_result"
    }
   ],
   "source": [
    "# detail_url = '/'.join(a[2]['href'].split('/')[:-1])\n",
    "detail_url = spot['href']\n",
    "detail_url"
   ]
  },
  {
   "cell_type": "code",
   "execution_count": 9,
   "metadata": {},
   "outputs": [],
   "source": [
    "ds = BeautifulSoup(get_html(detail_url), 'html.parser')"
   ]
  },
  {
   "cell_type": "code",
   "execution_count": 21,
   "metadata": {
    "scrolled": true
   },
   "outputs": [
    {
     "name": "stdout",
     "output_type": "stream",
     "text": [
      "1936年に天然記念\n",
      "10\n"
     ]
    }
   ],
   "source": [
    "about = ds.find('div', id='aboutArea').find('p')\n",
    "list_ = list(about.strings)\n",
    "a = '\\n'.join(list_)\n",
    "print(a[:10])\n",
    "print(len(a[:10]))"
   ]
  },
  {
   "cell_type": "code",
   "execution_count": 12,
   "metadata": {},
   "outputs": [
    {
     "name": "stdout",
     "output_type": "stream",
     "text": [
      "36.7023529\n",
      "139.20641\n"
     ]
    }
   ],
   "source": [
    "map = ds.find('div', id='detailMap-canvas')\n",
    "print(map['data-lat'])\n",
    "print(map['data-lng'])"
   ]
  },
  {
   "cell_type": "code",
   "execution_count": 13,
   "metadata": {},
   "outputs": [
    {
     "data": {
      "text/plain": [
       "'(1)関越道沼田ICよりR120経由、日光方面へ30分'"
      ]
     },
     "execution_count": 13,
     "metadata": {},
     "output_type": "execute_result"
    }
   ],
   "source": [
    "ds.find('table', class_='basicInfoTable').findAll('tr')[1].find('td').string.strip()"
   ]
  },
  {
   "cell_type": "code",
   "execution_count": 29,
   "metadata": {},
   "outputs": [
    {
     "data": {
      "text/plain": [
       "['https://gurutabi.gnavi.co.jp/i/d03/gs20601/',\n",
       " 'https://gurutabi.gnavi.co.jp/i/i_39738/']"
      ]
     },
     "execution_count": 29,
     "metadata": {},
     "output_type": "execute_result"
    }
   ],
   "source": [
    "with open('gurutabi_urls', 'r') as f:\n",
    "    urls = []\n",
    "    for line in f:\n",
    "        urls.append(line.strip())\n",
    "urls"
   ]
  },
  {
   "cell_type": "code",
   "execution_count": 30,
   "metadata": {},
   "outputs": [],
   "source": [
    "url = 'https://gurutabi.gnavi.co.jp/i/i_1001472/'\n",
    "s = BeautifulSoup(get_html(url), 'html.parser')"
   ]
  },
  {
   "cell_type": "code",
   "execution_count": 31,
   "metadata": {},
   "outputs": [],
   "source": [
    "mt40s = s.findAll('div', class_='mt40')\n",
    "for mt40 in mt40s:\n",
    "    sections = mt40.findAll('h2', class_='item-section-heading')\n",
    "    for section in sections:\n",
    "        if section.string == u'概要':\n",
    "            mt40.find('p').string"
   ]
  },
  {
   "cell_type": "code",
   "execution_count": 52,
   "metadata": {},
   "outputs": [
    {
     "name": "stdout",
     "output_type": "stream",
     "text": [
      "楽しさいっぱいのまちだリス園です。\n",
      "\n",
      "一番は、放し飼いのリストとのふれあいが楽しめます。\n",
      "（フェンスで囲まれた外周200ｍの広場に約200匹のタイワンリスが放し飼いされていて、\n",
      "自由にエサ（ヒマワリの種）をあげることができます。（１袋１００円））\n",
      "\n",
      "また、モルモット、ウサギなど小動物をひざの上に抱いて、癒しの時間が楽しめます。\n",
      "可愛らしいプレーリードックなどの珍しい小動物の見学も楽しめます。\n"
     ]
    }
   ],
   "source": [
    "mt40s = s.findAll('div', class_='mt40')\n",
    "for mt40 in mt40s:\n",
    "    sections = mt40.findAll('h2', class_='item-section-heading')\n",
    "#     print(sections)\n",
    "#     print('--------------------')\n",
    "    for section in sections:\n",
    "#         print(section.string)\n",
    "        if section.string == u'概要':\n",
    "            list_ = strip_generator(mt40.find('p').strings)\n",
    "            print('\\n'.join(list_))"
   ]
  },
  {
   "cell_type": "code",
   "execution_count": 48,
   "metadata": {},
   "outputs": [],
   "source": [
    "def strip_generator(generator):\n",
    "    list_ = []\n",
    "    for v in generator:\n",
    "        list_.append(v.strip())\n",
    "    return list_"
   ]
  },
  {
   "cell_type": "code",
   "execution_count": 4,
   "metadata": {},
   "outputs": [],
   "source": [
    "url = 'https://www.jalan.net/kankou/pro_003/g2_U2/'\n",
    "bs = BeautifulSoup(get_html(url), 'html.parser')"
   ]
  },
  {
   "cell_type": "code",
   "execution_count": 7,
   "metadata": {},
   "outputs": [],
   "source": [
    "items = bs.findAll('div', class_='item-listContents')\n",
    "l = [item.findAll('a')[2]['href'] for item in items]\n",
    "detail_url = l[0]"
   ]
  },
  {
   "cell_type": "code",
   "execution_count": 11,
   "metadata": {},
   "outputs": [],
   "source": [
    "def strip_generator(generator):\n",
    "    list_ = []\n",
    "    for v in generator:\n",
    "        if isinstance(v, str):\n",
    "            list_.append(v.strip())\n",
    "    return list_"
   ]
  },
  {
   "cell_type": "code",
   "execution_count": 19,
   "metadata": {},
   "outputs": [],
   "source": [
    "detail_url = '//www.jalan.net/kankou/spt_guide000000184651/'"
   ]
  },
  {
   "cell_type": "code",
   "execution_count": 20,
   "metadata": {},
   "outputs": [],
   "source": [
    "bs = BeautifulSoup(get_html('http:' + detail_url), 'html.parser')"
   ]
  },
  {
   "cell_type": "code",
   "execution_count": 21,
   "metadata": {},
   "outputs": [
    {
     "data": {
      "text/plain": [
       "'濃溝の滝'"
      ]
     },
     "execution_count": 21,
     "metadata": {},
     "output_type": "execute_result"
    }
   ],
   "source": [
    "bs.find('h1', class_='detailTitle').string"
   ]
  },
  {
   "cell_type": "code",
   "execution_count": 22,
   "metadata": {},
   "outputs": [
    {
     "data": {
      "text/plain": [
       "'まるでジブリの世界と話題になっています。'"
      ]
     },
     "execution_count": 22,
     "metadata": {},
     "output_type": "execute_result"
    }
   ],
   "source": [
    "gen = bs.find('div', id='aboutArea').find('p').strings\n",
    "'\\n'.join(strip_generator(gen))"
   ]
  },
  {
   "cell_type": "code",
   "execution_count": 23,
   "metadata": {},
   "outputs": [
    {
     "data": {
      "text/plain": [
       "'//cdn.jalan.jp/jalan/img/2/kuchikomi/1892/KL/b770c_0001892382_5.jpg'"
      ]
     },
     "execution_count": 23,
     "metadata": {},
     "output_type": "execute_result"
    }
   ],
   "source": [
    "bs.find('div', class_='detailGallery_box galleryArea-image').find('img')['src']"
   ]
  },
  {
   "cell_type": "code",
   "execution_count": 24,
   "metadata": {},
   "outputs": [
    {
     "data": {
      "text/plain": [
       "'滝・渓谷'"
      ]
     },
     "execution_count": 24,
     "metadata": {},
     "output_type": "execute_result"
    }
   ],
   "source": [
    "bs.find('dl', class_='c-genre').findAll('div', class_='dropdownCurrent')[1].find('a').string"
   ]
  },
  {
   "cell_type": "code",
   "execution_count": 28,
   "metadata": {},
   "outputs": [
    {
     "data": {
      "text/plain": [
       "'(1)アクアラインから君津インターを降りる。房総スカイラインから県道24号線を鴨川方面へ向かう'"
      ]
     },
     "execution_count": 28,
     "metadata": {},
     "output_type": "execute_result"
    }
   ],
   "source": [
    "bs.find('table', class_='basicInfoTable').findAll('tr')[-1].find('td').string.strip()"
   ]
  },
  {
   "cell_type": "code",
   "execution_count": 2,
   "metadata": {},
   "outputs": [],
   "source": [
    "import mysql.connector\n",
    "import configparser"
   ]
  },
  {
   "cell_type": "code",
   "execution_count": 4,
   "metadata": {},
   "outputs": [],
   "source": [
    "_config = configparser.ConfigParser()\n",
    "_config.read('development.cfg')\n",
    "account = _config['MySQL']"
   ]
  },
  {
   "cell_type": "code",
   "execution_count": 5,
   "metadata": {},
   "outputs": [],
   "source": [
    "conn = mysql.connector.connect(\n",
    "    db      = account['db'],\n",
    "    host    = account['host'],\n",
    "    user    = account['user'],\n",
    "    passwd  = account['passwd'],\n",
    "    charset = 'utf8')"
   ]
  },
  {
   "cell_type": "code",
   "execution_count": 8,
   "metadata": {},
   "outputs": [
    {
     "data": {
      "text/plain": [
       "True"
      ]
     },
     "execution_count": 8,
     "metadata": {},
     "output_type": "execute_result"
    }
   ],
   "source": [
    "cur = conn.cursor()\n",
    "q = 'SELECT * from jalan_genre NATURAL JOIN jalan_genre_small'\n",
    "cur.execute(q)\n",
    "r = cur.fetchall()\n",
    "cur.close()"
   ]
  },
  {
   "cell_type": "code",
   "execution_count": 9,
   "metadata": {},
   "outputs": [
    {
     "data": {
      "text/plain": [
       "[(1, 1, 1, '動物', '動・植物'), (2, 2, 2, '滝・渓谷', '自然景観・絶景')]"
      ]
     },
     "execution_count": 9,
     "metadata": {},
     "output_type": "execute_result"
    }
   ],
   "source": [
    "r"
   ]
  },
  {
   "cell_type": "code",
   "execution_count": 10,
   "metadata": {},
   "outputs": [
    {
     "data": {
      "text/plain": [
       "False"
      ]
     },
     "execution_count": 10,
     "metadata": {},
     "output_type": "execute_result"
    }
   ],
   "source": [
    "u'動物' in r"
   ]
  },
  {
   "cell_type": "code",
   "execution_count": null,
   "metadata": {},
   "outputs": [],
   "source": []
  }
 ],
 "metadata": {
  "kernelspec": {
   "display_name": "store",
   "language": "python",
   "name": "store"
  },
  "language_info": {
   "codemirror_mode": {
    "name": "ipython",
    "version": 3
   },
   "file_extension": ".py",
   "mimetype": "text/x-python",
   "name": "python",
   "nbconvert_exporter": "python",
   "pygments_lexer": "ipython3",
   "version": "3.6.4"
  }
 },
 "nbformat": 4,
 "nbformat_minor": 2
}
